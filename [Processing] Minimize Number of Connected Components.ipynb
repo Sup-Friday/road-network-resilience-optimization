{
 "cells": [
  {
   "cell_type": "code",
   "execution_count": 1,
   "metadata": {},
   "outputs": [
    {
     "name": "stdout",
     "output_type": "stream",
     "text": [
      "Washington_DC\n"
     ]
    }
   ],
   "source": [
    "import shuo\n",
    "import numpy as np\n",
    "import networkx as nx\n",
    "import geopandas as gpd\n",
    "from shuo.basics import FileNames, PickleDataWriter as pdw, UnionFind, FilesReader\n",
    "from shuo.optimization import graph_of_minimizing_number_of_connected_components\n",
    "\n",
    "File_Prefixes = ['Washington_DC', \n",
    "                 'Seattle_city_WA',\n",
    "                 'Chicago_city_IL',\n",
    "                 'Madison_county_AL', \n",
    "                 'Mobile_city_AL', \n",
    "                 'Napa_city_CA', \n",
    "                 'Redding_city_CA',\n",
    "                 'Yuma_county_AZ']\n",
    "budget = 0\n",
    "current_index = 0\n",
    "folder = 'data_processed'\n",
    "file_prefix = File_Prefixes[current_index]\n",
    "opt = 'minimizing_connected_components'\n",
    "print(file_prefix)\n",
    "\n",
    "N = FileNames(folder, file_prefix, budget)\n",
    "F = FilesReader(folder, file_prefix, budget)\n",
    "\n",
    "UG, AG = F.graph(1), F.graph(2)"
   ]
  },
  {
   "cell_type": "code",
   "execution_count": 2,
   "metadata": {},
   "outputs": [
    {
     "name": "stdout",
     "output_type": "stream",
     "text": [
      "Given budget 9759.85629002013 , after fortifying 281 edges, there are 3 connected components:\n",
      "\n"
     ]
    }
   ],
   "source": [
    "# Compute the recovered graph by minimizing number of connected components\n",
    "budget = 10000\n",
    "F.update_budget(10000)\n",
    "N.update_budget(10000)\n",
    "NG = graph_of_minimizing_number_of_connected_components(UG, AG, 10000)"
   ]
  },
  {
   "cell_type": "code",
   "execution_count": 3,
   "metadata": {},
   "outputs": [],
   "source": [
    "# Save the recovered graph by minimizing number of connected components\n",
    "nx.write_graphml(NG, N.graph(3, opt))"
   ]
  },
  {
   "cell_type": "code",
   "execution_count": null,
   "metadata": {},
   "outputs": [],
   "source": []
  }
 ],
 "metadata": {
  "kernelspec": {
   "display_name": "Python 3",
   "language": "python",
   "name": "python3"
  },
  "language_info": {
   "codemirror_mode": {
    "name": "ipython",
    "version": 3
   },
   "file_extension": ".py",
   "mimetype": "text/x-python",
   "name": "python",
   "nbconvert_exporter": "python",
   "pygments_lexer": "ipython3",
   "version": "3.7.3"
  }
 },
 "nbformat": 4,
 "nbformat_minor": 2
}
