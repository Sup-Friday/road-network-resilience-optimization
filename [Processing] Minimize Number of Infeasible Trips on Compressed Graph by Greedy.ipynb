{
 "cells": [
  {
   "cell_type": "code",
   "execution_count": 1,
   "metadata": {},
   "outputs": [
    {
     "name": "stdout",
     "output_type": "stream",
     "text": [
      "Washington_DC\n"
     ]
    }
   ],
   "source": [
    "import shuo\n",
    "import numpy as np\n",
    "import networkx as nx\n",
    "import geopandas as gpd\n",
    "from shuo.basics import FileNames, PickleDataWriter as pdw, UnionFind, FilesReader\n",
    "from shuo.optimization import graph_of_minimizing_number_of_infeasible_trips\n",
    "\n",
    "File_Prefixes = ['Washington_DC', \n",
    "                 'Seattle_city_WA',\n",
    "                 'Chicago_city_IL',\n",
    "                 'Madison_county_AL', \n",
    "                 'Mobile_city_AL', \n",
    "                 'Napa_city_CA', \n",
    "                 'Redding_city_CA',\n",
    "                 'Yuma_county_AZ']\n",
    "budget = 0\n",
    "current_index = 0\n",
    "opt = 'minimizing_infeasible_trips'\n",
    "folder = 'data_processed'\n",
    "file_prefix = File_Prefixes[current_index]\n",
    "print(file_prefix)\n",
    "\n",
    "N = FileNames(folder, file_prefix, budget)\n",
    "F = FilesReader(folder, file_prefix, budget)"
   ]
  },
  {
   "cell_type": "code",
   "execution_count": 2,
   "metadata": {},
   "outputs": [
    {
     "name": "stdout",
     "output_type": "stream",
     "text": [
      "Added a total of 53 edges, with 0.0981 budget remaining\n",
      "Original infeasible trips: 187388.44440332145 Remaining: 31942.463019367013 Recovered: 155445.98138395444\n",
      "\n"
     ]
    }
   ],
   "source": [
    "# Compute the result of minimizing number of infeasible trips\n",
    "budget = 500\n",
    "N.update_budget(budget)\n",
    "F.update_budget(budget)\n",
    "NG = graph_of_minimizing_number_of_infeasible_trips(N.graph(1), N.graph(2), N.compressed_graph(1), N.compressed_graph(2), N.travel_demand_matrix(1), budget)"
   ]
  },
  {
   "cell_type": "code",
   "execution_count": 3,
   "metadata": {},
   "outputs": [],
   "source": [
    "# Write the result of minimizing number of infeasible trips\n",
    "nx.write_graphml(NG, N.graph(3, opt))"
   ]
  },
  {
   "cell_type": "code",
   "execution_count": 4,
   "metadata": {},
   "outputs": [],
   "source": [
    "# Compute and write the result of minimizing number of infeasible trips given different budget\n",
    "budgets = np.arange(1000, 11000, step=1000)\n",
    "for budget in budgets:\n",
    "    N.update_budget(budget)\n",
    "    F.update_budget(budget)\n",
    "        \n",
    "    recompute = False\n",
    "    if recompute:\n",
    "        NG = graph_of_minimizing_number_of_infeasible_trips(N.graph(1), N.graph(2), N.compressed_graph(1), N.compressed_graph(2), N.travel_demand_matrix(1), budget)\n",
    "        nx.write_graphml(NG, N.graph(3, opt))\n",
    "    else:\n",
    "        NG = nx.read_graphml(N.graph(3, opt))"
   ]
  },
  {
   "cell_type": "code",
   "execution_count": null,
   "metadata": {},
   "outputs": [],
   "source": []
  }
 ],
 "metadata": {
  "kernelspec": {
   "display_name": "Python 3",
   "language": "python",
   "name": "python3"
  },
  "language_info": {
   "codemirror_mode": {
    "name": "ipython",
    "version": 3
   },
   "file_extension": ".py",
   "mimetype": "text/x-python",
   "name": "python",
   "nbconvert_exporter": "python",
   "pygments_lexer": "ipython3",
   "version": "3.7.3"
  }
 },
 "nbformat": 4,
 "nbformat_minor": 2
}
