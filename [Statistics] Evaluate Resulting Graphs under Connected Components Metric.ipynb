{
 "cells": [
  {
   "cell_type": "code",
   "execution_count": 1,
   "metadata": {},
   "outputs": [
    {
     "name": "stdout",
     "output_type": "stream",
     "text": [
      "Washington_DC\n"
     ]
    }
   ],
   "source": [
    "import shuo\n",
    "import numpy as np\n",
    "import networkx as nx\n",
    "import geopandas as gpd\n",
    "from shuo.basics import FileNames, PickleDataWriter as pdw, UnionFind, FilesReader\n",
    "\n",
    "File_Prefixes = ['Washington_DC', \n",
    "                 'Seattle_city_WA',\n",
    "                 'Chicago_city_IL',\n",
    "                 'Madison_county_AL', \n",
    "                 'Mobile_city_AL', \n",
    "                 'Napa_city_CA', \n",
    "                 'Redding_city_CA',\n",
    "                 'Yuma_county_AZ']\n",
    "budget = 0\n",
    "current_index = 0\n",
    "folder = 'data_processed'\n",
    "file_prefix = File_Prefixes[current_index]\n",
    "print(file_prefix)\n",
    "\n",
    "F = FilesReader(folder, file_prefix, budget)\n",
    "\n",
    "opt = 'minimizing_connected_components'\n",
    "#opt = 'minimizing_infeasible_trips'\n",
    "UG, AG = F.graph(1), F.graph(2)\n",
    "demand_mat = F.travel_demand_matrix()\n",
    "\n",
    "dict_index_to_node, dict_node_to_index = F.mapping(0)\n",
    "dict_index_to_zone, dict_zone_to_index = F.mapping(1)\n",
    "dict_zone_to_nodes, dict_node_to_zones = F.mapping(2)"
   ]
  },
  {
   "cell_type": "code",
   "execution_count": 2,
   "metadata": {},
   "outputs": [
    {
     "name": "stdout",
     "output_type": "stream",
     "text": [
      "Current budget: 0\n",
      "Nodes: 10095 Edges: 15700\n",
      "Connected components: 284\n",
      "----------------------------------------------------------------------\n",
      "\n",
      "Current budget: 1000\n",
      "Nodes: 10095 Edges: 15820\n",
      "Connected components: 164\n",
      "----------------------------------------------------------------------\n",
      "\n",
      "Current budget: 2000\n",
      "Nodes: 10095 Edges: 15866\n",
      "Connected components: 118\n",
      "----------------------------------------------------------------------\n",
      "\n",
      "Current budget: 3000\n",
      "Nodes: 10095 Edges: 15896\n",
      "Connected components: 88\n",
      "----------------------------------------------------------------------\n",
      "\n",
      "Current budget: 4000\n",
      "Nodes: 10095 Edges: 15917\n",
      "Connected components: 67\n",
      "----------------------------------------------------------------------\n",
      "\n",
      "Current budget: 5000\n",
      "Nodes: 10095 Edges: 15934\n",
      "Connected components: 50\n",
      "----------------------------------------------------------------------\n",
      "\n",
      "Current budget: 6000\n",
      "Nodes: 10095 Edges: 15948\n",
      "Connected components: 36\n",
      "----------------------------------------------------------------------\n",
      "\n",
      "Current budget: 7000\n",
      "Nodes: 10095 Edges: 15960\n",
      "Connected components: 24\n",
      "----------------------------------------------------------------------\n",
      "\n",
      "Current budget: 8000\n",
      "Nodes: 10095 Edges: 15969\n",
      "Connected components: 15\n",
      "----------------------------------------------------------------------\n",
      "\n",
      "Current budget: 9000\n",
      "Nodes: 10095 Edges: 15977\n",
      "Connected components: 7\n",
      "----------------------------------------------------------------------\n",
      "\n",
      "Current budget: 10000\n",
      "Nodes: 10095 Edges: 15981\n",
      "Connected components: 3\n",
      "----------------------------------------------------------------------\n",
      "\n"
     ]
    }
   ],
   "source": [
    "from shuo.optimization import graph_of_minimizing_number_of_connected_components, graph_of_minimizing_number_of_infeasible_trips\n",
    "\n",
    "cc_nums = []\n",
    "budgets = np.arange(0, 11000, step=1000)\n",
    "for budget in budgets:\n",
    "    print('Current budget:', budget)\n",
    "    F.update_budget(budget)\n",
    "        \n",
    "    # Compute the resulting graph by minimizing number of connected components\n",
    "    recompute, file_name = False, F.name.graph(3, opt)\n",
    "    if recompute and budget != 0:\n",
    "        OG = graph_of_minimizing_number_of_connected_components(UG, AG, budget)\n",
    "        OG = graph_of_minimizing_number_of_infeasible_trips(F.name.graph(1), F.name.graph(2), F.name.compressed_graph(1), F.name.compressed_graph(2), F.name.travel_demand_matrix(1), budget)\n",
    "        nx.write_graphml(OG, file_name)\n",
    "    else:\n",
    "        OG = nx.read_graphml(file_name)\n",
    "    print('Nodes:', len(OG.nodes), 'Edges:', len(OG.edges))\n",
    "\n",
    "    cc_num = nx.number_connected_components(OG)\n",
    "    cc_nums.append(cc_num)\n",
    "    print('Connected components:', cc_num)\n",
    "    print('----------------------------------------------------------------------\\n')"
   ]
  },
  {
   "cell_type": "code",
   "execution_count": 3,
   "metadata": {},
   "outputs": [
    {
     "name": "stdout",
     "output_type": "stream",
     "text": [
      "cc_nums = [284, 164, 118, 88, 67, 50, 36, 24, 15, 7, 3]\n"
     ]
    }
   ],
   "source": [
    "print('cc_nums =', cc_nums)"
   ]
  },
  {
   "cell_type": "code",
   "execution_count": null,
   "metadata": {},
   "outputs": [],
   "source": []
  }
 ],
 "metadata": {
  "kernelspec": {
   "display_name": "Python 3",
   "language": "python",
   "name": "python3"
  },
  "language_info": {
   "codemirror_mode": {
    "name": "ipython",
    "version": 3
   },
   "file_extension": ".py",
   "mimetype": "text/x-python",
   "name": "python",
   "nbconvert_exporter": "python",
   "pygments_lexer": "ipython3",
   "version": "3.7.3"
  }
 },
 "nbformat": 4,
 "nbformat_minor": 2
}
