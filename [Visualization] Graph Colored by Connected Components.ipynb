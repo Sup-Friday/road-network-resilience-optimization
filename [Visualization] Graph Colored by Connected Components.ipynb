{
 "cells": [
  {
   "cell_type": "code",
   "execution_count": 1,
   "metadata": {},
   "outputs": [
    {
     "name": "stdout",
     "output_type": "stream",
     "text": [
      "Washington_DC\n"
     ]
    }
   ],
   "source": [
    "import shuo\n",
    "import fiona\n",
    "import numpy as np\n",
    "import networkx as nx\n",
    "import geopandas as gpd\n",
    "import matplotlib as mpl\n",
    "from matplotlib import pyplot as plt\n",
    "from shapely.geometry import LineString, mapping\n",
    "from shuo.basics import FileNames, PickleDataWriter as pdw, UnionFind, FilesReader, get_LineString\n",
    "\n",
    "File_Prefixes = ['Washington_DC', \n",
    "                 'Seattle_city_WA',\n",
    "                 'Chicago_city_IL',\n",
    "                 'Madison_county_AL', \n",
    "                 'Mobile_city_AL', \n",
    "                 'Napa_city_CA', \n",
    "                 'Redding_city_CA',\n",
    "                 'Yuma_county_AZ']\n",
    "budget = 0\n",
    "current_index = 0\n",
    "folder = 'data_processed'\n",
    "file_prefix = File_Prefixes[current_index]\n",
    "print(file_prefix)\n",
    "\n",
    "opt = 'minimizing_connected_components'\n",
    "opt = 'minimizing_infeasible_trips'\n",
    "F = FilesReader(folder, file_prefix, budget)"
   ]
  },
  {
   "cell_type": "code",
   "execution_count": 2,
   "metadata": {},
   "outputs": [
    {
     "name": "stdout",
     "output_type": "stream",
     "text": [
      "Colors: 284\n"
     ]
    }
   ],
   "source": [
    "# Load graph to be colored\n",
    "G = F.graph(3, opt)\n",
    "cc_num = nx.number_connected_components(G)\n",
    "print('Colors:', cc_num)\n",
    "\n",
    "# Get color info for each CC\n",
    "norm = mpl.colors.Normalize(vmin=0, vmax=cc_num)\n",
    "color_mapping = mpl.cm.ScalarMappable(norm=norm, cmap=plt.get_cmap('hsv'))\n",
    "colors = [color_mapping.to_rgba(index + 1) for index in range(cc_num)]\n",
    "\n",
    "# Get color info of each edge\n",
    "edge_colors = dict()\n",
    "cc_sub = nx.connected_component_subgraphs(G)\n",
    "for index, G in enumerate(cc_sub):\n",
    "    color = colors[index]\n",
    "    for u, v, d in G.edges(data=True):\n",
    "        edge_colors[(u, v)] = index\n",
    "\n",
    "# Store color info of each edge\n",
    "for u, v, d in G.edges(data=True):\n",
    "    d['color'] = str(edge_colors[(u, v)]) if (u, v) in edge_colors else str(edge_colors[(v, u)])"
   ]
  },
  {
   "cell_type": "code",
   "execution_count": 3,
   "metadata": {},
   "outputs": [],
   "source": [
    "# Convert the nodes of road network into an easy-to-read format\n",
    "points = {node: [float(data['x']), float(data['y'])] for node, data in G.nodes(data=True)}\n",
    "\n",
    "# Create shapefile of colored edges\n",
    "schema = {'geometry': 'LineString', 'properties':{'color': 'int'}}\n",
    "with fiona.open(F.name.graph(4, opt), 'w', 'ESRI Shapefile', schema, fiona.crs.from_epsg(4326)) as File:\n",
    "    for u, v, d in G.edges(data=True):\n",
    "        elem = dict()\n",
    "        line = get_LineString(d['geometry']) if 'geometry' in d else LineString([points[u], points[v]])\n",
    "        elem['geometry'] = mapping(line)\n",
    "        elem['properties'] = dict()\n",
    "        elem['properties']['color'] = d['color']\n",
    "\n",
    "        File.write(elem)"
   ]
  },
  {
   "cell_type": "code",
   "execution_count": null,
   "metadata": {},
   "outputs": [],
   "source": []
  }
 ],
 "metadata": {
  "kernelspec": {
   "display_name": "Python 3",
   "language": "python",
   "name": "python3"
  },
  "language_info": {
   "codemirror_mode": {
    "name": "ipython",
    "version": 3
   },
   "file_extension": ".py",
   "mimetype": "text/x-python",
   "name": "python",
   "nbconvert_exporter": "python",
   "pygments_lexer": "ipython3",
   "version": "3.7.3"
  }
 },
 "nbformat": 4,
 "nbformat_minor": 2
}
