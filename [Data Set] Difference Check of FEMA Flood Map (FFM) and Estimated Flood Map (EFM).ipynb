{
 "cells": [
  {
   "cell_type": "code",
   "execution_count": 1,
   "metadata": {},
   "outputs": [],
   "source": [
    "# Load the data of estimated flood map (EFM)\n",
    "import os\n",
    "import fiona\n",
    "import pyproj\n",
    "import numpy as np\n",
    "import rasterio\n",
    "import rasterio.mask\n",
    "import rasterio.features\n",
    "import rasterio.warp\n",
    "import geopandas as gpd\n",
    "import matplotlib.pyplot as plt\n",
    "from shapely.geometry import Point, Polygon, MultiPolygon, LineString\n",
    "\n",
    "# Washington related data dir\n",
    "EFM_dir = 'data_pro/EFM/Washington_DC.tif'\n",
    "FFM_dir = 'data/raw/flood/FEMA/Washington Flood Data from FEMA/110001_20190429/S_FLD_HAZ_AR.shp'"
   ]
  },
  {
   "cell_type": "code",
   "execution_count": 2,
   "metadata": {},
   "outputs": [
    {
     "name": "stdout",
     "output_type": "stream",
     "text": [
      "[EFM] Ratio of flood area to whole area: 0.1859341082912381\n"
     ]
    }
   ],
   "source": [
    "# Check estimated flood map\n",
    "with rasterio.open(EFM_dir) as src:\n",
    "    assert src.indexes == (1, )\n",
    "    \n",
    "    # Data matrix. **NOTE** its shape is Height(Y)*Width(X)\n",
    "    data_mat = src.read(1)\n",
    "    \n",
    "    # Count different values of data matrix\n",
    "    values_count = dict()\n",
    "    for i in range(data_mat.shape[0]):\n",
    "        for j in range(data_mat.shape[1]):\n",
    "            if not data_mat[i][j] in values_count: values_count[data_mat[i][j]] = 1\n",
    "            else: values_count[data_mat[i][j]] += 1\n",
    "    \n",
    "    #for k, v in values_count.items():\n",
    "        #print('value:', k, 'count:', v)\n",
    "\n",
    "whole_area = values_count[0] + values_count[1]\n",
    "flood_area = values_count[1]\n",
    "EFM_ratio = flood_area / whole_area\n",
    "print('[EFM] Ratio of flood area to whole area:', EFM_ratio)"
   ]
  },
  {
   "cell_type": "code",
   "execution_count": 3,
   "metadata": {},
   "outputs": [
    {
     "name": "stdout",
     "output_type": "stream",
     "text": [
      "[FFM] Ratio of flood area to whole area: 0.19981711829915286\n",
      "\n",
      "Difference between EFM and FEMA: 0.013883010007914753\n"
     ]
    }
   ],
   "source": [
    "# Check FEMA flood map\n",
    "df = gpd.read_file(FFM_dir)\n",
    "whole_area = flood_area = 0\n",
    "for index, row in df.iterrows():\n",
    "    geom = row['geometry']\n",
    "    \n",
    "    # Update whole area\n",
    "    whole_area += geom.area\n",
    "        \n",
    "    # Update flood area (need to specify which area is flooded)\n",
    "    #if (row['ZONE_SUBTY'] == '0.2 PCT ANNUAL CHANCE FLOOD HAZARD') or (row['ZONE_SUBTY'] == None):\n",
    "    if (row['ZONE_SUBTY'] != 'AREA OF MINIMAL FLOOD HAZARD'):\n",
    "        flood_area += geom.area\n",
    "        \n",
    "FEMA_ratio = flood_area / whole_area\n",
    "print('[FFM] Ratio of flood area to whole area:', FEMA_ratio)\n",
    "\n",
    "print('\\nDifference between EFM and FEMA:', FEMA_ratio - EFM_ratio)"
   ]
  },
  {
   "cell_type": "markdown",
   "metadata": {},
   "source": [
    "# Functionalities for Future Usage"
   ]
  },
  {
   "cell_type": "code",
   "execution_count": null,
   "metadata": {},
   "outputs": [],
   "source": [
    "with rasterio.open(src_dir) as src:\n",
    "    \n",
    "    # Some settings. X-axis and Y-axis corresponds width and height respectively.\n",
    "    res_x, res_y = src.res\n",
    "    num_y, num_x = src.shape\n",
    "    assert ((src.bounds.right - src.bounds.left) / res_x == num_x) and ((src.bounds.top - src.bounds.bottom) / res_y == num_y)\n",
    "    print(num_x, num_y, res_x, res_y)\n",
    "    \n",
    "    # Data of a given coordinate\n",
    "    x, y = 1611028.2,1928599.3\n",
    "    pixel = src.sample([(x, y)])\n",
    "    for value in pixel: print(value)\n",
    "    \n",
    "    # Longitude and latitude given a coordinate and CRS\n",
    "    my_proj = pyproj.Proj(src.crs)\n",
    "    left_bottom = my_proj(src.bounds.left, src.bounds.bottom, inverse=True)\n",
    "    right_top = my_proj(src.bounds.right, src.bounds.top, inverse=True)\n",
    "    print(left_bottom, right_top)\n",
    "    \n",
    "    # Usually there's only one band\n",
    "    assert src.indexes == (1, )\n",
    "    # Data matrix. **NOTE** its shape is Height(Y)*Width(X)\n",
    "    data_mat = src.read(1)\n",
    "    "
   ]
  }
 ],
 "metadata": {
  "kernelspec": {
   "display_name": "Python 3",
   "language": "python",
   "name": "python3"
  },
  "language_info": {
   "codemirror_mode": {
    "name": "ipython",
    "version": 3
   },
   "file_extension": ".py",
   "mimetype": "text/x-python",
   "name": "python",
   "nbconvert_exporter": "python",
   "pygments_lexer": "ipython3",
   "version": "3.7.3"
  }
 },
 "nbformat": 4,
 "nbformat_minor": 2
}
