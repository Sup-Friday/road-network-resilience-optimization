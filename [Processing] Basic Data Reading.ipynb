{
 "cells": [
  {
   "cell_type": "code",
   "execution_count": 1,
   "metadata": {},
   "outputs": [
    {
     "name": "stdout",
     "output_type": "stream",
     "text": [
      "Washington_DC\n"
     ]
    }
   ],
   "source": [
    "import shuo\n",
    "import numpy as np\n",
    "import networkx as nx\n",
    "import geopandas as gpd\n",
    "from shuo.basics import FileNames, PickleDataWriter as pdw, UnionFind, FilesReader\n",
    "\n",
    "File_Prefixes = ['Washington_DC', \n",
    "                 'Seattle_city_WA',\n",
    "                 'Chicago_city_IL',\n",
    "                 'Madison_county_AL', \n",
    "                 'Mobile_city_AL', \n",
    "                 'Napa_city_CA', \n",
    "                 'Redding_city_CA',\n",
    "                 'Yuma_county_AZ']\n",
    "budget = 0\n",
    "current_index = 0\n",
    "folder = 'data_processed'\n",
    "file_prefix = File_Prefixes[current_index]\n",
    "print(file_prefix)\n",
    "\n",
    "f = FilesReader(folder, file_prefix, budget)"
   ]
  },
  {
   "cell_type": "code",
   "execution_count": 2,
   "metadata": {},
   "outputs": [
    {
     "name": "stdout",
     "output_type": "stream",
     "text": [
      "There're 10095 nodes and 16401 edges\n",
      "There're 15700 unaffected edges and 701 affected edges\n",
      "Ratio of affected edges to total edges: 4.27\n"
     ]
    }
   ],
   "source": [
    "# Load graphs\n",
    "OG, UG, AG = f.graph(0), f.graph(1), f.graph(2)\n",
    "print('There\\'re', len(OG.nodes), 'nodes and', len(OG.edges), 'edges')\n",
    "print('There\\'re', len(UG.edges), 'unaffected edges and', len(AG.edges), 'affected edges\\nRatio of affected edges to total edges:', round((len(AG.edges) * 100) / len(OG.edges), 2))\n",
    "\n",
    "# Load mappings\n",
    "dict_index_to_node, dict_node_to_index = f.mapping(0)\n",
    "dict_index_to_zone, dict_zone_to_index = f.mapping(1)\n",
    "dict_zone_to_nodes, dict_node_to_zones = f.mapping(2)\n",
    "dict_zone_ind_to_node_incs, dict_node_ind_to_zone_incs = f.mapping(3)\n",
    "\n",
    "# Load matrices\n",
    "node_dist_mat = f.node_distance_matrix(1)\n",
    "trips_count_mat = f.zone_trips_count_matrix(1)\n",
    "demand_mat = f.travel_demand_matrix(0)\n",
    "\n",
    "# Load compressed graphs and travel demand\n",
    "CUG, CAG = f.compressed_graph(1), f.compressed_graph(2)\n",
    "compressed_demand_mat = f.travel_demand_matrix(1)"
   ]
  },
  {
   "cell_type": "code",
   "execution_count": null,
   "metadata": {},
   "outputs": [],
   "source": []
  }
 ],
 "metadata": {
  "kernelspec": {
   "display_name": "Python 3",
   "language": "python",
   "name": "python3"
  },
  "language_info": {
   "codemirror_mode": {
    "name": "ipython",
    "version": 3
   },
   "file_extension": ".py",
   "mimetype": "text/x-python",
   "name": "python",
   "nbconvert_exporter": "python",
   "pygments_lexer": "ipython3",
   "version": "3.7.3"
  }
 },
 "nbformat": 4,
 "nbformat_minor": 2
}
