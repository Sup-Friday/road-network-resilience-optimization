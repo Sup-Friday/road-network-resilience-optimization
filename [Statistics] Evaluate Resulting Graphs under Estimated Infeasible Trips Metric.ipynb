{
 "cells": [
  {
   "cell_type": "code",
   "execution_count": 1,
   "metadata": {},
   "outputs": [
    {
     "name": "stdout",
     "output_type": "stream",
     "text": [
      "Washington_DC\n"
     ]
    }
   ],
   "source": [
    "import shuo\n",
    "import numpy as np\n",
    "import networkx as nx\n",
    "import geopandas as gpd\n",
    "from shuo.basics import FileNames, PickleDataWriter as pdw, UnionFind, FilesReader\n",
    "\n",
    "File_Prefixes = ['Washington_DC', \n",
    "                 'Seattle_city_WA',\n",
    "                 'Chicago_city_IL',\n",
    "                 'Madison_county_AL', \n",
    "                 'Mobile_city_AL', \n",
    "                 'Napa_city_CA', \n",
    "                 'Redding_city_CA',\n",
    "                 'Yuma_county_AZ']\n",
    "budget = 0\n",
    "current_index = 0\n",
    "folder = 'data_processed'\n",
    "file_prefix = File_Prefixes[current_index]\n",
    "print(file_prefix)\n",
    "\n",
    "F = FilesReader(folder, file_prefix, budget)\n",
    "\n",
    "opt = 'minimizing_connected_components'\n",
    "opt = 'minimizing_infeasible_trips'\n",
    "UG, AG = F.graph(1), F.graph(2)\n",
    "demand_mat = F.travel_demand_matrix()\n",
    "\n",
    "dict_index_to_node, dict_node_to_index = F.mapping(0)\n",
    "dict_index_to_zone, dict_zone_to_index = F.mapping(1)\n",
    "dict_zone_to_nodes, dict_node_to_zones = F.mapping(2)"
   ]
  },
  {
   "cell_type": "code",
   "execution_count": 2,
   "metadata": {},
   "outputs": [
    {
     "name": "stdout",
     "output_type": "stream",
     "text": [
      "Current budget: 0\n",
      "There're 10095 nodes and 15700 edges\n",
      "Estimated infeasible trips: 187388.4444036483\n",
      "Estimated feasible trips: 448673.0765963518\n",
      "----------------------------------------------------------------------\n",
      "\n",
      "Current budget: 1000\n",
      "There're 10095 nodes and 15767 edges\n",
      "Estimated infeasible trips: 27623.514597070363\n",
      "Estimated feasible trips: 608438.0064029295\n",
      "----------------------------------------------------------------------\n",
      "\n",
      "Current budget: 2000\n",
      "There're 10095 nodes and 15800 edges\n",
      "Estimated infeasible trips: 20707.21377391183\n",
      "Estimated feasible trips: 615354.3072260881\n",
      "----------------------------------------------------------------------\n",
      "\n",
      "Current budget: 3000\n",
      "There're 10095 nodes and 15829 edges\n",
      "Estimated infeasible trips: 17062.69342824195\n",
      "Estimated feasible trips: 618998.8275717581\n",
      "----------------------------------------------------------------------\n",
      "\n",
      "Current budget: 4000\n",
      "There're 10095 nodes and 15854 edges\n",
      "Estimated infeasible trips: 14594.849544720932\n",
      "Estimated feasible trips: 621466.671455279\n",
      "----------------------------------------------------------------------\n",
      "\n",
      "Current budget: 5000\n",
      "There're 10095 nodes and 15870 edges\n",
      "Estimated infeasible trips: 13421.030010137889\n",
      "Estimated feasible trips: 622640.4909898624\n",
      "----------------------------------------------------------------------\n",
      "\n",
      "Current budget: 6000\n",
      "There're 10095 nodes and 15885 edges\n",
      "Estimated infeasible trips: 12165.924583926018\n",
      "Estimated feasible trips: 623895.5964160741\n",
      "----------------------------------------------------------------------\n",
      "\n",
      "Current budget: 7000\n",
      "There're 10095 nodes and 15903 edges\n",
      "Estimated infeasible trips: 7809.1292764316295\n",
      "Estimated feasible trips: 628252.3917235684\n",
      "----------------------------------------------------------------------\n",
      "\n",
      "Current budget: 8000\n",
      "There're 10095 nodes and 15911 edges\n",
      "Estimated infeasible trips: 7303.308908334256\n",
      "Estimated feasible trips: 628758.2120916657\n",
      "----------------------------------------------------------------------\n",
      "\n",
      "Current budget: 9000\n",
      "There're 10095 nodes and 15923 edges\n",
      "Estimated infeasible trips: 4212.989684021162\n",
      "Estimated feasible trips: 631848.5313159788\n",
      "----------------------------------------------------------------------\n",
      "\n",
      "Current budget: 10000\n",
      "There're 10095 nodes and 15947 edges\n",
      "Estimated infeasible trips: 812.7950780643882\n",
      "Estimated feasible trips: 635248.7259219356\n",
      "----------------------------------------------------------------------\n",
      "\n"
     ]
    }
   ],
   "source": [
    "from shuo.optimization import graph_of_minimizing_number_of_connected_components, graph_of_minimizing_number_of_infeasible_trips\n",
    "\n",
    "eits = []\n",
    "efts = []\n",
    "budgets = np.arange(0, 11000, step=1000)\n",
    "for budget in budgets:\n",
    "    print('Current budget:', budget)\n",
    "    F.update_budget(budget)\n",
    "        \n",
    "    # Compute the resulting graph by minimizing number of connected components\n",
    "    recompute, file_name = False, F.name.graph(3, opt)\n",
    "    if recompute and budget != 0:\n",
    "        OG = graph_of_minimizing_number_of_connected_components(UG, AG, budget)\n",
    "        OG = graph_of_minimizing_number_of_infeasible_trips(F.name.graph(1), F.name.graph(2), F.name.compressed_graph(1), F.name.compressed_graph(2), F.name.travel_demand_matrix(1), budget)\n",
    "        nx.write_graphml(OG, file_name)\n",
    "    else:\n",
    "        OG = nx.read_graphml(file_name)\n",
    "    print('There\\'re', len(OG.nodes), 'nodes and', len(OG.edges), 'edges')\n",
    "\n",
    "    # Compute and save node distance matrix\n",
    "    recompute, file_name = False, F.name.node_distance_matrix(1, opt)\n",
    "    if recompute and budget != 0:\n",
    "        node_dist_mat = shuo.nodes_distances(OG, dict_node_to_index)\n",
    "        np.save(file_name, node_dist_mat)\n",
    "    else:\n",
    "        node_dist_mat = np.load(file_name)\n",
    "        \n",
    "    # Compute and save zone distance and trips count matrix\n",
    "    recompute, file_name = False, F.name.zone_trips_count_matrix(1, opt)\n",
    "    if recompute and budget != 0:\n",
    "        trips_count_mat = shuo.zones_distances_and_trips_count(node_dist_mat, dict_index_to_node, dict_node_to_zones, dict_zone_to_index)[1]\n",
    "        np.save(file_name, trips_count_mat)\n",
    "    else:\n",
    "        trips_count_mat = np.load(file_name)\n",
    "    \n",
    "    # Show statistics\n",
    "    [fea, inf] = trips_count_mat\n",
    "    tot = fea + inf\n",
    "    tot[tot == 0] = 1\n",
    "    eit, eft = np.sum(demand_mat * (inf / tot)), np.sum(demand_mat * (fea / tot))\n",
    "    eits.append(eit)\n",
    "    efts.append(eft)\n",
    "    print('Estimated infeasible trips:', eit)\n",
    "    print('Estimated feasible trips:', eft)\n",
    "    print('----------------------------------------------------------------------\\n')"
   ]
  },
  {
   "cell_type": "code",
   "execution_count": 3,
   "metadata": {},
   "outputs": [
    {
     "name": "stdout",
     "output_type": "stream",
     "text": [
      "eits = [187388.4444036483, 27623.514597070363, 20707.21377391183, 17062.69342824195, 14594.849544720932, 13421.030010137889, 12165.924583926018, 7809.1292764316295, 7303.308908334256, 4212.989684021162, 812.7950780643882]\n",
      "efts = [448673.0765963518, 608438.0064029295, 615354.3072260881, 618998.8275717581, 621466.671455279, 622640.4909898624, 623895.5964160741, 628252.3917235684, 628758.2120916657, 631848.5313159788, 635248.7259219356]\n"
     ]
    }
   ],
   "source": [
    "print('eits =', eits)\n",
    "print('efts =', efts)"
   ]
  },
  {
   "cell_type": "code",
   "execution_count": null,
   "metadata": {},
   "outputs": [],
   "source": []
  }
 ],
 "metadata": {
  "kernelspec": {
   "display_name": "Python 3",
   "language": "python",
   "name": "python3"
  },
  "language_info": {
   "codemirror_mode": {
    "name": "ipython",
    "version": 3
   },
   "file_extension": ".py",
   "mimetype": "text/x-python",
   "name": "python",
   "nbconvert_exporter": "python",
   "pygments_lexer": "ipython3",
   "version": "3.7.3"
  }
 },
 "nbformat": 4,
 "nbformat_minor": 2
}
